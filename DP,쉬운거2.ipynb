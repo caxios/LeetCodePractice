{
  "nbformat": 4,
  "nbformat_minor": 0,
  "metadata": {
    "colab": {
      "provenance": [],
      "authorship_tag": "ABX9TyMhtJAZHx4DQu6ZlZj3GGf4"
    },
    "kernelspec": {
      "name": "python3",
      "display_name": "Python 3"
    },
    "language_info": {
      "name": "python"
    }
  },
  "cells": [
    {
      "cell_type": "markdown",
      "source": [
        "https://leetcode.com/problems/find-center-of-star-graph/"
      ],
      "metadata": {
        "id": "V-GekbMEOxKx"
      }
    },
    {
      "cell_type": "code",
      "source": [
        "cost = [1,100,1,1,1,100,1,1,100,1]"
      ],
      "metadata": {
        "id": "NafKD6JkoiGw"
      },
      "execution_count": 1,
      "outputs": []
    },
    {
      "cell_type": "code",
      "source": [
        "len(cost)"
      ],
      "metadata": {
        "colab": {
          "base_uri": "https://localhost:8080/"
        },
        "id": "mkaWNxadSyNJ",
        "outputId": "2a705dfa-373e-4f50-e850-4f54ac8e69e3"
      },
      "execution_count": 8,
      "outputs": [
        {
          "output_type": "execute_result",
          "data": {
            "text/plain": [
              "10"
            ]
          },
          "metadata": {},
          "execution_count": 8
        }
      ]
    },
    {
      "cell_type": "code",
      "source": [
        "dp = [0 for _ in range(len(cost))]\n",
        "for i in range(len(cost)):\n",
        "  dp[i] = cost[i] + min(dp[i-2],dp[i-1])"
      ],
      "metadata": {
        "id": "IKJd8IIlQKGn"
      },
      "execution_count": 19,
      "outputs": []
    },
    {
      "cell_type": "code",
      "source": [
        "min(dp[-1],dp[-2])"
      ],
      "metadata": {
        "colab": {
          "base_uri": "https://localhost:8080/"
        },
        "id": "QJv-FRbnRZjc",
        "outputId": "95d31b9d-b8d2-490a-f959-ab2936b52d26"
      },
      "execution_count": 22,
      "outputs": [
        {
          "output_type": "execute_result",
          "data": {
            "text/plain": [
              "6"
            ]
          },
          "metadata": {},
          "execution_count": 22
        }
      ]
    },
    {
      "cell_type": "code",
      "source": [
        "dp"
      ],
      "metadata": {
        "colab": {
          "base_uri": "https://localhost:8080/"
        },
        "id": "VCU052reY1Zi",
        "outputId": "6a258c28-aeb6-4a98-8e7c-71290cf0649a"
      },
      "execution_count": 21,
      "outputs": [
        {
          "output_type": "execute_result",
          "data": {
            "text/plain": [
              "[1, 100, 2, 3, 3, 103, 4, 5, 104, 6]"
            ]
          },
          "metadata": {},
          "execution_count": 21
        }
      ]
    },
    {
      "cell_type": "code",
      "source": [],
      "metadata": {
        "id": "KKAp1qM3Y6Pv"
      },
      "execution_count": null,
      "outputs": []
    }
  ]
}