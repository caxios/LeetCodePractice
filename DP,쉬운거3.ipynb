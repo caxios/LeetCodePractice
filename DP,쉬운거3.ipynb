{
  "nbformat": 4,
  "nbformat_minor": 0,
  "metadata": {
    "colab": {
      "provenance": [],
      "authorship_tag": "ABX9TyPieyB9bdnDfQ7gdCwl9o6n"
    },
    "kernelspec": {
      "name": "python3",
      "display_name": "Python 3"
    },
    "language_info": {
      "name": "python"
    }
  },
  "cells": [
    {
      "cell_type": "markdown",
      "source": [
        "https://leetcode.com/problems/best-time-to-buy-and-sell-stock/"
      ],
      "metadata": {
        "id": "V-GekbMEOxKx"
      }
    },
    {
      "cell_type": "code",
      "source": [
        "prices = [7,1,5,3,6,4]"
      ],
      "metadata": {
        "id": "NafKD6JkoiGw"
      },
      "execution_count": 1,
      "outputs": []
    },
    {
      "cell_type": "code",
      "source": [
        "# 답은 나오는데 시간초과가 뜬다. 굳이 이렇게 한 이유는 그냥 전체적인 과정을 보고 싶어서.\n",
        "lst = [0 for _ in range(len(prices)+1)]\n",
        "for i in range(len(prices)+1):\n",
        "  llst = [0] * len(prices)\n",
        "  for j in range(i, len(prices)):\n",
        "    num = max(prices[j] - prices[i],0)\n",
        "    llst[j] = num\n",
        "    print(f'{prices[j]}-{prices[i]} is {prices[j]-prices[i]}')\n",
        "  lst[i] = max(llst)"
      ],
      "metadata": {
        "id": "mkaWNxadSyNJ",
        "colab": {
          "base_uri": "https://localhost:8080/"
        },
        "outputId": "97deca23-1e6a-437d-caa1-358494b0cd02"
      },
      "execution_count": 24,
      "outputs": [
        {
          "output_type": "stream",
          "name": "stdout",
          "text": [
            "7-7 is 0\n",
            "1-7 is -6\n",
            "5-7 is -2\n",
            "3-7 is -4\n",
            "6-7 is -1\n",
            "4-7 is -3\n",
            "1-1 is 0\n",
            "5-1 is 4\n",
            "3-1 is 2\n",
            "6-1 is 5\n",
            "4-1 is 3\n",
            "5-5 is 0\n",
            "3-5 is -2\n",
            "6-5 is 1\n",
            "4-5 is -1\n",
            "3-3 is 0\n",
            "6-3 is 3\n",
            "4-3 is 1\n",
            "6-6 is 0\n",
            "4-6 is -2\n",
            "4-4 is 0\n"
          ]
        }
      ]
    },
    {
      "cell_type": "code",
      "source": [
        "lst"
      ],
      "metadata": {
        "id": "oeuXUfbu7GrM",
        "colab": {
          "base_uri": "https://localhost:8080/"
        },
        "outputId": "daba1be1-c724-4a9d-87c3-dbafdeae142b"
      },
      "execution_count": 25,
      "outputs": [
        {
          "output_type": "execute_result",
          "data": {
            "text/plain": [
              "[0, 5, 1, 3, 0, 0, 0]"
            ]
          },
          "metadata": {},
          "execution_count": 25
        }
      ]
    },
    {
      "cell_type": "code",
      "source": [
        "max(lst)"
      ],
      "metadata": {
        "colab": {
          "base_uri": "https://localhost:8080/"
        },
        "id": "zQNuD8Hk2JQ-",
        "outputId": "b1a478f5-fbb2-4f7b-b418-38dd1d1a92c1"
      },
      "execution_count": 22,
      "outputs": [
        {
          "output_type": "execute_result",
          "data": {
            "text/plain": [
              "5"
            ]
          },
          "metadata": {},
          "execution_count": 22
        }
      ]
    },
    {
      "cell_type": "code",
      "source": [
        "# 직관적인 풀이\n",
        "buy = 0\n",
        "sell = 1\n",
        "max_profit = 0\n",
        "while sell < len(prices):\n",
        "    currentProfit = prices[sell] - prices[buy]\n",
        "    if prices[buy] < prices[sell]:\n",
        "        max_profit =max(currentProfit,max_profit)\n",
        "    else:\n",
        "        buy = sell\n",
        "    sell += 1\n",
        "max_profit"
      ],
      "metadata": {
        "colab": {
          "base_uri": "https://localhost:8080/"
        },
        "id": "XCiEgzqm5fGS",
        "outputId": "b3f99a6d-1c4a-4e6e-b47a-b448cb5a80e5"
      },
      "execution_count": 23,
      "outputs": [
        {
          "output_type": "execute_result",
          "data": {
            "text/plain": [
              "5"
            ]
          },
          "metadata": {},
          "execution_count": 23
        }
      ]
    },
    {
      "cell_type": "code",
      "source": [],
      "metadata": {
        "id": "1t91TGvA6gkq"
      },
      "execution_count": null,
      "outputs": []
    }
  ]
}