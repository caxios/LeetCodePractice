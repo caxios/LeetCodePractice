{
  "nbformat": 4,
  "nbformat_minor": 0,
  "metadata": {
    "colab": {
      "provenance": [],
      "authorship_tag": "ABX9TyPlOL6aOfPf7Fy+aC6iSwG6"
    },
    "kernelspec": {
      "name": "python3",
      "display_name": "Python 3"
    },
    "language_info": {
      "name": "python"
    }
  },
  "cells": [
    {
      "cell_type": "markdown",
      "source": [
        "https://leetcode.com/problems/pascals-triangle/"
      ],
      "metadata": {
        "id": "V-GekbMEOxKx"
      }
    },
    {
      "cell_type": "code",
      "source": [
        "numRows = 5\n",
        "lst = [[0] * i for i in range(1, numRows+1)]\n",
        "lst[0][0] = 1\n",
        "lst"
      ],
      "metadata": {
        "id": "1Wg_72Pp-vAk",
        "colab": {
          "base_uri": "https://localhost:8080/"
        },
        "outputId": "5f09e62c-b856-40b2-f6a5-b18990e799cb"
      },
      "execution_count": 56,
      "outputs": [
        {
          "output_type": "execute_result",
          "data": {
            "text/plain": [
              "[[1], [0, 0], [0, 0, 0], [0, 0, 0, 0], [0, 0, 0, 0, 0]]"
            ]
          },
          "metadata": {},
          "execution_count": 56
        }
      ]
    },
    {
      "cell_type": "code",
      "source": [
        "[[0] for _ in range(numRows)]"
      ],
      "metadata": {
        "colab": {
          "base_uri": "https://localhost:8080/"
        },
        "id": "ME_9MtmEgrU1",
        "outputId": "73c912da-f05e-47b5-d014-6e104b1c6426"
      },
      "execution_count": 54,
      "outputs": [
        {
          "output_type": "execute_result",
          "data": {
            "text/plain": [
              "[[0], [0], [0], [0], [0]]"
            ]
          },
          "metadata": {},
          "execution_count": 54
        }
      ]
    },
    {
      "cell_type": "markdown",
      "source": [
        "사실 처음에 lst변수를 그냥 [ [0] for _ in range(numRows) ]로 해놨다. 그런데 그렇게 하려니 for문을 돌릴 때 append함수로 값을 붙여야 했다. 나는 index로 접근해서 각각의 index에 0 값을 다른 값으로 교체하고 싶었는데. 그래서 위와 같이 lst변수의 for문을 바꿨다.  "
      ],
      "metadata": {
        "id": "IgtThyH_gOG1"
      }
    },
    {
      "cell_type": "code",
      "source": [
        "len(lst)"
      ],
      "metadata": {
        "colab": {
          "base_uri": "https://localhost:8080/"
        },
        "id": "M2h6S-_aYJIk",
        "outputId": "f3bba8bb-2d00-4642-f5b2-71760b64fd16"
      },
      "execution_count": 4,
      "outputs": [
        {
          "output_type": "execute_result",
          "data": {
            "text/plain": [
              "5"
            ]
          },
          "metadata": {},
          "execution_count": 4
        }
      ]
    },
    {
      "cell_type": "code",
      "source": [
        "print(range(1))"
      ],
      "metadata": {
        "colab": {
          "base_uri": "https://localhost:8080/"
        },
        "id": "zoUYmruXe02G",
        "outputId": "f3fce585-3390-445d-cf3b-2ea177553d6b"
      },
      "execution_count": 47,
      "outputs": [
        {
          "output_type": "stream",
          "name": "stdout",
          "text": [
            "range(0, 1)\n"
          ]
        }
      ]
    },
    {
      "cell_type": "code",
      "source": [
        "# 2중 for문으로 하면 뭐가 어떻게 돌아가는지 궁금하고 헷갈려서 일일히 print로 찍었다.\n",
        "for i in range(1, len(lst)):\n",
        "  print(f'i is now {i}\\n')\n",
        "  for j in range(i+1):\n",
        "    print(f'i is now {i} and j is now {j}')\n",
        "    if j == 0:\n",
        "      lst[i][j] = 1\n",
        "    elif j == i:\n",
        "      lst[i][j] = 1\n",
        "    elif j != 0:\n",
        "      lst[i][j] = lst[i-1][j-1] + lst[i-1][j]\n",
        "    print(f'lst is now {lst}')\n",
        "    print('\\n--------------------------------------\\n')"
      ],
      "metadata": {
        "colab": {
          "base_uri": "https://localhost:8080/"
        },
        "id": "yJ1G981IY36H",
        "outputId": "4da00d62-4627-4073-fcd2-4014787b20a9"
      },
      "execution_count": 57,
      "outputs": [
        {
          "output_type": "stream",
          "name": "stdout",
          "text": [
            "i is now 1\n",
            "\n",
            "i is now 1 and j is now 0\n",
            "lst is now [[1], [1, 0], [0, 0, 0], [0, 0, 0, 0], [0, 0, 0, 0, 0]]\n",
            "\n",
            "--------------------------------------\n",
            "\n",
            "i is now 1 and j is now 1\n",
            "lst is now [[1], [1, 1], [0, 0, 0], [0, 0, 0, 0], [0, 0, 0, 0, 0]]\n",
            "\n",
            "--------------------------------------\n",
            "\n",
            "i is now 2\n",
            "\n",
            "i is now 2 and j is now 0\n",
            "lst is now [[1], [1, 1], [1, 0, 0], [0, 0, 0, 0], [0, 0, 0, 0, 0]]\n",
            "\n",
            "--------------------------------------\n",
            "\n",
            "i is now 2 and j is now 1\n",
            "lst is now [[1], [1, 1], [1, 2, 0], [0, 0, 0, 0], [0, 0, 0, 0, 0]]\n",
            "\n",
            "--------------------------------------\n",
            "\n",
            "i is now 2 and j is now 2\n",
            "lst is now [[1], [1, 1], [1, 2, 1], [0, 0, 0, 0], [0, 0, 0, 0, 0]]\n",
            "\n",
            "--------------------------------------\n",
            "\n",
            "i is now 3\n",
            "\n",
            "i is now 3 and j is now 0\n",
            "lst is now [[1], [1, 1], [1, 2, 1], [1, 0, 0, 0], [0, 0, 0, 0, 0]]\n",
            "\n",
            "--------------------------------------\n",
            "\n",
            "i is now 3 and j is now 1\n",
            "lst is now [[1], [1, 1], [1, 2, 1], [1, 3, 0, 0], [0, 0, 0, 0, 0]]\n",
            "\n",
            "--------------------------------------\n",
            "\n",
            "i is now 3 and j is now 2\n",
            "lst is now [[1], [1, 1], [1, 2, 1], [1, 3, 3, 0], [0, 0, 0, 0, 0]]\n",
            "\n",
            "--------------------------------------\n",
            "\n",
            "i is now 3 and j is now 3\n",
            "lst is now [[1], [1, 1], [1, 2, 1], [1, 3, 3, 1], [0, 0, 0, 0, 0]]\n",
            "\n",
            "--------------------------------------\n",
            "\n",
            "i is now 4\n",
            "\n",
            "i is now 4 and j is now 0\n",
            "lst is now [[1], [1, 1], [1, 2, 1], [1, 3, 3, 1], [1, 0, 0, 0, 0]]\n",
            "\n",
            "--------------------------------------\n",
            "\n",
            "i is now 4 and j is now 1\n",
            "lst is now [[1], [1, 1], [1, 2, 1], [1, 3, 3, 1], [1, 4, 0, 0, 0]]\n",
            "\n",
            "--------------------------------------\n",
            "\n",
            "i is now 4 and j is now 2\n",
            "lst is now [[1], [1, 1], [1, 2, 1], [1, 3, 3, 1], [1, 4, 6, 0, 0]]\n",
            "\n",
            "--------------------------------------\n",
            "\n",
            "i is now 4 and j is now 3\n",
            "lst is now [[1], [1, 1], [1, 2, 1], [1, 3, 3, 1], [1, 4, 6, 4, 0]]\n",
            "\n",
            "--------------------------------------\n",
            "\n",
            "i is now 4 and j is now 4\n",
            "lst is now [[1], [1, 1], [1, 2, 1], [1, 3, 3, 1], [1, 4, 6, 4, 1]]\n",
            "\n",
            "--------------------------------------\n",
            "\n"
          ]
        }
      ]
    },
    {
      "cell_type": "code",
      "source": [
        "# 더 간단하고 직관적인...\n",
        "pas = [[1]* i for i in range(1, numRows+1)]\n",
        "for i in range(len(pas)):\n",
        "  for j in range(1, i):\n",
        "    pas[i][j] = pas[i-1][j-1] + pas[i-1][j]\n",
        "pas"
      ],
      "metadata": {
        "colab": {
          "base_uri": "https://localhost:8080/"
        },
        "id": "wcwRTTKIacxW",
        "outputId": "cd9c42fa-22d8-4f13-b7ac-4b4002a564f4"
      },
      "execution_count": 63,
      "outputs": [
        {
          "output_type": "execute_result",
          "data": {
            "text/plain": [
              "[[1], [1, 1], [1, 2, 1], [1, 3, 3, 1], [1, 4, 6, 4, 1]]"
            ]
          },
          "metadata": {},
          "execution_count": 63
        }
      ]
    },
    {
      "cell_type": "code",
      "source": [
        "def recur(n, lst):\n",
        "  print(n)\n",
        "  if n == 0:\n",
        "    print('reached end')\n",
        "    return\n",
        "  else:\n",
        "    recur(n-1, lst)\n",
        "    print(n)\n",
        "    lst.append(n)\n",
        "    print(lst)"
      ],
      "metadata": {
        "id": "vB-LyJERhw-9"
      },
      "execution_count": 86,
      "outputs": []
    },
    {
      "cell_type": "code",
      "source": [
        "new = list()\n",
        "recur(n=5, lst=new)"
      ],
      "metadata": {
        "colab": {
          "base_uri": "https://localhost:8080/"
        },
        "id": "ntFBrZz0jpFx",
        "outputId": "a26daefd-2414-4682-8f72-9d23946de51f"
      },
      "execution_count": 87,
      "outputs": [
        {
          "output_type": "stream",
          "name": "stdout",
          "text": [
            "5\n",
            "4\n",
            "3\n",
            "2\n",
            "1\n",
            "0\n",
            "reached end\n",
            "1\n",
            "[1]\n",
            "2\n",
            "[1, 2]\n",
            "3\n",
            "[1, 2, 3]\n",
            "4\n",
            "[1, 2, 3, 4]\n",
            "5\n",
            "[1, 2, 3, 4, 5]\n"
          ]
        }
      ]
    },
    {
      "cell_type": "markdown",
      "source": [
        "Recursive는 함수 안에다가 자기 자신을 호출, return조건을 만족시킬 때까지 쭉쭉 호출후출호출 한다."
      ],
      "metadata": {
        "id": "-xiN5XKFmdZr"
      }
    },
    {
      "cell_type": "code",
      "source": [
        "new_new = []\n",
        "def recursive(n):\n",
        "    print(n)\n",
        "    if n==0:\n",
        "      print('reached end')\n",
        "      return\n",
        "    else:\n",
        "      print(\"go into recursive \\n\")\n",
        "      recursive(n-1)\n",
        "      print(\"operate recursive \\n\")\n",
        "      new_new.append([1]*n)\n",
        "      print(f\"current list is : {new_new}\\n\")\n",
        "      for i in range(1, n-1):\n",
        "          new_new[n-1][i] = new_new[n-2][i] + new_new[n-2][i-1]"
      ],
      "metadata": {
        "id": "nf0BDBXmlhcE"
      },
      "execution_count": 94,
      "outputs": []
    },
    {
      "cell_type": "code",
      "source": [
        "recursive(numRows)\n",
        "new_new"
      ],
      "metadata": {
        "colab": {
          "base_uri": "https://localhost:8080/"
        },
        "id": "gV75Ns6gl8-O",
        "outputId": "5bf44963-a054-4dd1-8729-e72edf60eba2"
      },
      "execution_count": 95,
      "outputs": [
        {
          "output_type": "stream",
          "name": "stdout",
          "text": [
            "5\n",
            "go into recursive \n",
            "\n",
            "4\n",
            "go into recursive \n",
            "\n",
            "3\n",
            "go into recursive \n",
            "\n",
            "2\n",
            "go into recursive \n",
            "\n",
            "1\n",
            "go into recursive \n",
            "\n",
            "0\n",
            "reached end\n",
            "operate recursive \n",
            "\n",
            "current list is : [[1]]\n",
            "\n",
            "operate recursive \n",
            "\n",
            "current list is : [[1], [1, 1]]\n",
            "\n",
            "operate recursive \n",
            "\n",
            "current list is : [[1], [1, 1], [1, 1, 1]]\n",
            "\n",
            "operate recursive \n",
            "\n",
            "current list is : [[1], [1, 1], [1, 2, 1], [1, 1, 1, 1]]\n",
            "\n",
            "operate recursive \n",
            "\n",
            "current list is : [[1], [1, 1], [1, 2, 1], [1, 3, 3, 1], [1, 1, 1, 1, 1]]\n",
            "\n"
          ]
        },
        {
          "output_type": "execute_result",
          "data": {
            "text/plain": [
              "[[1], [1, 1], [1, 2, 1], [1, 3, 3, 1], [1, 4, 6, 4, 1]]"
            ]
          },
          "metadata": {},
          "execution_count": 95
        }
      ]
    },
    {
      "cell_type": "code",
      "source": [],
      "metadata": {
        "id": "0-gqLk3SmPai"
      },
      "execution_count": null,
      "outputs": []
    }
  ]
}