{
  "nbformat": 4,
  "nbformat_minor": 0,
  "metadata": {
    "colab": {
      "provenance": [],
      "authorship_tag": "ABX9TyM5OZxr2jy35ETgpeFjE02+"
    },
    "kernelspec": {
      "name": "python3",
      "display_name": "Python 3"
    },
    "language_info": {
      "name": "python"
    }
  },
  "cells": [
    {
      "cell_type": "markdown",
      "source": [
        "https://leetcode.com/problems/merge-two-sorted-lists/solutions/759870/python3-solution-with-a-detailed-explanation-dummy-explained/"
      ],
      "metadata": {
        "id": "V-GekbMEOxKx"
      }
    },
    {
      "cell_type": "code",
      "execution_count": 1,
      "metadata": {
        "id": "D2qrpXg7OgSz"
      },
      "outputs": [],
      "source": [
        "# Definition for singly-linked list.\n",
        "# class ListNode(object):\n",
        "#     def __init__(self, val=0, next=None):\n",
        "#         self.val = val\n",
        "#         self.next = next\n",
        "class Solution:\n",
        "    def mergeTwoLists(self, l1, l2):\n",
        "        dummy = temp = ListNode(0)\n",
        "        while l1 != None and l2 != None:\n",
        "\n",
        "            if l1.val < l2.val:\n",
        "                temp.next = l1\n",
        "                l1 = l1.next\n",
        "            else:\n",
        "                temp.next = l2\n",
        "                l2 = l2.next\n",
        "            temp = temp.next\n",
        "        temp.next = l1 or l2\n",
        "        return dummy.next"
      ]
    },
    {
      "cell_type": "markdown",
      "source": [
        "\n",
        "1. https://www.geeksforgeeks.org/python-linked-list/\n",
        "2. https://realpython.com/linked-lists-python/\n",
        "* LinkedList는 List랑 같은데, 이제 하나의 element(node)가 data와 다음 element(node)를 가리킨다는 점에서 일반적인 List랑은 구별된다. 즉, 각각의 Node가 data 그리고 다음 Node를 가리키는 link를 갖는 형태.\n",
        "* 맨 첫 번째 Node를 가리키는 건 head고, 이 head를 통해 전체 list에 접근할 수 있다. LinkedList를 돌 때(traverse), node의 next 값을 통해 다음 node로 이동하게 된다.\n",
        "* LinkedList가 element의 삽입, 삭에 측면에서 일반 List보다 performance가 좋다."
      ],
      "metadata": {
        "id": "U10BEOl7hbSY"
      }
    },
    {
      "cell_type": "markdown",
      "source": [
        "* collections.deque를 통해 linkedlist를 사용할 수 있다. TimeComplexity는 O(1).\n"
      ],
      "metadata": {
        "id": "Dt_DkiU0Gj4l"
      }
    },
    {
      "cell_type": "code",
      "source": [
        "class ListNode(object):\n",
        "     def __init__(self, val=0, next=None):\n",
        "         self.val = val\n",
        "         self.next = next"
      ],
      "metadata": {
        "id": "S_UJ6WaZfoK_"
      },
      "execution_count": 2,
      "outputs": []
    },
    {
      "cell_type": "code",
      "source": [
        "# list object는 iterator가 아니다. next는 iterator object대상으로만 쓸 수 있으므로 list object한테 next를 쓰려고 하면 'list' object is not an iterator 에러가 난다. range함수도 마찬가지. 그래서 iter함수를 통해 iterator로 만들어줘야 한다.\n",
        "lst = [1,1,2,3,4,4]\n",
        "itera = iter(lst)\n",
        "for _ in range(len(lst)):\n",
        "  print(next(itera))"
      ],
      "metadata": {
        "colab": {
          "base_uri": "https://localhost:8080/"
        },
        "id": "KT3Kusg1UWg8",
        "outputId": "e6254b8d-a7c9-4c61-f637-7e069a20503f"
      },
      "execution_count": 8,
      "outputs": [
        {
          "output_type": "stream",
          "name": "stdout",
          "text": [
            "1\n",
            "1\n",
            "2\n",
            "3\n",
            "4\n",
            "4\n"
          ]
        }
      ]
    },
    {
      "cell_type": "code",
      "source": [
        "from collections import deque\n",
        "deque_lst = deque(lst)\n",
        "deque_lst.append(6)\n",
        "print(deque_lst)\n",
        "deque_lst.pop()\n",
        "print(deque_lst)"
      ],
      "metadata": {
        "colab": {
          "base_uri": "https://localhost:8080/"
        },
        "id": "DV3jWD7QK1B9",
        "outputId": "8ef66bfc-af93-43ea-cd9e-e320319e16d4"
      },
      "execution_count": 10,
      "outputs": [
        {
          "output_type": "stream",
          "name": "stdout",
          "text": [
            "deque([1, 1, 2, 3, 4, 4, 6])\n",
            "deque([1, 1, 2, 3, 4, 4])\n"
          ]
        }
      ]
    },
    {
      "cell_type": "code",
      "source": [
        "lst2 = [1,2,3,4,5,6]\n",
        "itera2 = iter(lst2)\n",
        "for index,element in enumerate(itera2):\n",
        "  print(next(itera2))"
      ],
      "metadata": {
        "colab": {
          "base_uri": "https://localhost:8080/"
        },
        "id": "dh08AeENf_zz",
        "outputId": "da487748-b751-461d-b986-226246b22823"
      },
      "execution_count": 11,
      "outputs": [
        {
          "output_type": "stream",
          "name": "stdout",
          "text": [
            "2\n",
            "4\n",
            "6\n"
          ]
        }
      ]
    },
    {
      "cell_type": "code",
      "source": [
        "node = ListNode()\n",
        "node.next = 1\n",
        "print(node.next)"
      ],
      "metadata": {
        "colab": {
          "base_uri": "https://localhost:8080/"
        },
        "id": "yyWpl4kTfjQF",
        "outputId": "27ea41e1-4d7c-4563-c696-be4741c4c364"
      },
      "execution_count": 5,
      "outputs": [
        {
          "output_type": "stream",
          "name": "stdout",
          "text": [
            "1\n"
          ]
        }
      ]
    },
    {
      "cell_type": "code",
      "source": [
        "class LinkedList:\n",
        "  def __init__(self, head=None):\n",
        "    # head변수는 LinkedList의 맨 첫 번째 Node 객체를 저장한다. next나 data만 넣는 게 아니라 그 둘이 포함된 Node객체를 넣는다는 것.\n",
        "    self.head = head # LinkedList가 어디서 시작했는지 알아야 되기 때문에 그걸 담는 변수인 head를 define.\n",
        "  def print_next_node(self):\n",
        "    node = self.head # node변수에 LinkedList의 head 값을 넣어준다. 맨 처음에 head에 첫 번째 Node를 넣어주므로 현재 node변수에는 첫 번째 Node 객체가 들어가게 된다.\n",
        "    nodes = []\n",
        "    while node != None:\n",
        "      nodes.append(node.data) # nodes리스트 변수에 Node객체의 data값을 넣어준다. 그냥 확인용으로.\n",
        "      node = node.next # Node객체에는 next가 있다. 해당 객체의 next에 들어있는 값으로 node변수를 업데이트 해준다. 즉, 두 번째 Node객체가 이제 node변수에 들어간다.\n",
        "    nodes.append(\"None\") # LinkedList의 마지막 Node객체의 next에는 일단 None이기 때문에 append 불가하므로 string \"None\"을 넣어준다.\n",
        "    return nodes\n",
        "\n",
        "class Node:\n",
        "  def __init__(self, data=None, next=None):\n",
        "    self.data = data\n",
        "    self.next = next\n",
        "  def print_next(self):\n",
        "    print(self.next.data)"
      ],
      "metadata": {
        "id": "A5fGCrzRgkvH"
      },
      "execution_count": 46,
      "outputs": []
    },
    {
      "cell_type": "code",
      "source": [
        "linkedlist = LinkedList()\n",
        "linkedlist"
      ],
      "metadata": {
        "colab": {
          "base_uri": "https://localhost:8080/"
        },
        "id": "RhOmFm9PNBKq",
        "outputId": "263f294f-ab03-46cd-8652-108a070ef6ed"
      },
      "execution_count": 42,
      "outputs": [
        {
          "output_type": "execute_result",
          "data": {
            "text/plain": [
              "<__main__.LinkedList at 0x7ac93a563550>"
            ]
          },
          "metadata": {},
          "execution_count": 42
        }
      ]
    },
    {
      "cell_type": "code",
      "source": [
        "first_node = Node('a')\n",
        "linkedlist.head = first_node"
      ],
      "metadata": {
        "id": "bWOgnEVKNJNS"
      },
      "execution_count": 43,
      "outputs": []
    },
    {
      "cell_type": "code",
      "source": [
        "second_node = Node('b')\n",
        "first_node.next = second_node\n",
        "third_node = Node('c')\n",
        "second_node.next = third_node\n",
        "\n",
        "# 각 node의 next값이 뭔지 궁금해서 출력하는데, third_node는 None이므로 출력이 안 된다.\n",
        "first_node.print_next()\n",
        "second_node.print_next()\n",
        "third_node.print_next()"
      ],
      "metadata": {
        "colab": {
          "base_uri": "https://localhost:8080/",
          "height": 349
        },
        "id": "2-z0sLRqNcUe",
        "outputId": "734acfc2-fa74-4fc7-d018-636248e8ce96"
      },
      "execution_count": 44,
      "outputs": [
        {
          "output_type": "stream",
          "name": "stdout",
          "text": [
            "b\n",
            "c\n"
          ]
        },
        {
          "output_type": "error",
          "ename": "AttributeError",
          "evalue": "ignored",
          "traceback": [
            "\u001b[0;31m---------------------------------------------------------------------------\u001b[0m",
            "\u001b[0;31mAttributeError\u001b[0m                            Traceback (most recent call last)",
            "\u001b[0;32m<ipython-input-44-61dcc6d37c8b>\u001b[0m in \u001b[0;36m<cell line: 9>\u001b[0;34m()\u001b[0m\n\u001b[1;32m      7\u001b[0m \u001b[0mfirst_node\u001b[0m\u001b[0;34m.\u001b[0m\u001b[0mprint_next\u001b[0m\u001b[0;34m(\u001b[0m\u001b[0;34m)\u001b[0m\u001b[0;34m\u001b[0m\u001b[0;34m\u001b[0m\u001b[0m\n\u001b[1;32m      8\u001b[0m \u001b[0msecond_node\u001b[0m\u001b[0;34m.\u001b[0m\u001b[0mprint_next\u001b[0m\u001b[0;34m(\u001b[0m\u001b[0;34m)\u001b[0m\u001b[0;34m\u001b[0m\u001b[0;34m\u001b[0m\u001b[0m\n\u001b[0;32m----> 9\u001b[0;31m \u001b[0mthird_node\u001b[0m\u001b[0;34m.\u001b[0m\u001b[0mprint_next\u001b[0m\u001b[0;34m(\u001b[0m\u001b[0;34m)\u001b[0m\u001b[0;34m\u001b[0m\u001b[0;34m\u001b[0m\u001b[0m\n\u001b[0m",
            "\u001b[0;32m<ipython-input-41-aadca479b42d>\u001b[0m in \u001b[0;36mprint_next\u001b[0;34m(self)\u001b[0m\n\u001b[1;32m     16\u001b[0m     \u001b[0mself\u001b[0m\u001b[0;34m.\u001b[0m\u001b[0mnext\u001b[0m \u001b[0;34m=\u001b[0m \u001b[0mnext\u001b[0m\u001b[0;34m\u001b[0m\u001b[0;34m\u001b[0m\u001b[0m\n\u001b[1;32m     17\u001b[0m   \u001b[0;32mdef\u001b[0m \u001b[0mprint_next\u001b[0m\u001b[0;34m(\u001b[0m\u001b[0mself\u001b[0m\u001b[0;34m)\u001b[0m\u001b[0;34m:\u001b[0m\u001b[0;34m\u001b[0m\u001b[0;34m\u001b[0m\u001b[0m\n\u001b[0;32m---> 18\u001b[0;31m     \u001b[0mprint\u001b[0m\u001b[0;34m(\u001b[0m\u001b[0mself\u001b[0m\u001b[0;34m.\u001b[0m\u001b[0mnext\u001b[0m\u001b[0;34m.\u001b[0m\u001b[0mdata\u001b[0m\u001b[0;34m)\u001b[0m\u001b[0;34m\u001b[0m\u001b[0;34m\u001b[0m\u001b[0m\n\u001b[0m",
            "\u001b[0;31mAttributeError\u001b[0m: 'NoneType' object has no attribute 'data'"
          ]
        }
      ]
    },
    {
      "cell_type": "code",
      "source": [
        "# 각 Node객체의 next node data(그 다음 노드의 값)가 보인다. 맨 마지막은 지정을 안 했으니 None.\n",
        "linkedlist.print_next_node()"
      ],
      "metadata": {
        "colab": {
          "base_uri": "https://localhost:8080/"
        },
        "id": "3VCOs3d7NpXd",
        "outputId": "d18b5c6b-1662-4ba7-94d9-6321ff2218a2"
      },
      "execution_count": 45,
      "outputs": [
        {
          "output_type": "execute_result",
          "data": {
            "text/plain": [
              "['a', 'b', 'c', 'None']"
            ]
          },
          "metadata": {},
          "execution_count": 45
        }
      ]
    },
    {
      "cell_type": "code",
      "source": [],
      "metadata": {
        "id": "oCQBbp-mRYLc"
      },
      "execution_count": null,
      "outputs": []
    }
  ]
}