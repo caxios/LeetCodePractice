{
  "nbformat": 4,
  "nbformat_minor": 0,
  "metadata": {
    "colab": {
      "provenance": [],
      "authorship_tag": "ABX9TyMX2jeHa9IBXOc7HInkGg5D"
    },
    "kernelspec": {
      "name": "python3",
      "display_name": "Python 3"
    },
    "language_info": {
      "name": "python"
    }
  },
  "cells": [
    {
      "cell_type": "markdown",
      "source": [
        "https://leetcode.com/problems/counting-bits/submissions/"
      ],
      "metadata": {
        "id": "V-GekbMEOxKx"
      }
    },
    {
      "cell_type": "code",
      "source": [
        "s = bin(5)\n",
        "print(s)\n",
        "print(type(s))"
      ],
      "metadata": {
        "colab": {
          "base_uri": "https://localhost:8080/"
        },
        "id": "D0ws64GL3fp_",
        "outputId": "5546edd0-a9ef-4502-a366-1acbdecdd3ee"
      },
      "execution_count": 22,
      "outputs": [
        {
          "output_type": "stream",
          "name": "stdout",
          "text": [
            "0b101\n",
            "<class 'str'>\n"
          ]
        }
      ]
    },
    {
      "cell_type": "code",
      "source": [
        "# 정답 자체는 간단하게 맞출 수 있다. 매개변수로 주어진 integer의 binary값을 구해주는 bin함수와 string에서 원하는 값을 찾아 세주는 count함수를 쓰면 된다.\n",
        "class Solution(object):\n",
        "    def countBits(self, n):\n",
        "        \"\"\"\n",
        "        :type n: int\n",
        "        :rtype: List[int]\n",
        "        \"\"\"\n",
        "        return [bin(s).count('1') for s in range(n+1)]"
      ],
      "metadata": {
        "id": "H2Rpe6fB5lgI"
      },
      "execution_count": 23,
      "outputs": []
    },
    {
      "cell_type": "code",
      "source": [],
      "metadata": {
        "id": "K_ufsQMg6H6K"
      },
      "execution_count": null,
      "outputs": []
    }
  ]
}