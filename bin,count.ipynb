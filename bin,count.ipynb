{
  "nbformat": 4,
  "nbformat_minor": 0,
  "metadata": {
    "colab": {
      "provenance": [],
      "authorship_tag": "ABX9TyPd8joiaPCutPPY6tGeUKVX"
    },
    "kernelspec": {
      "name": "python3",
      "display_name": "Python 3"
    },
    "language_info": {
      "name": "python"
    }
  },
  "cells": [
    {
      "cell_type": "markdown",
      "source": [
        "https://leetcode.com/problems/counting-bits/submissions/"
      ],
      "metadata": {
        "id": "V-GekbMEOxKx"
      }
    },
    {
      "cell_type": "code",
      "source": [
        "s = bin(5)\n",
        "print(s)\n",
        "print(type(s))"
      ],
      "metadata": {
        "colab": {
          "base_uri": "https://localhost:8080/"
        },
        "id": "D0ws64GL3fp_",
        "outputId": "5546edd0-a9ef-4502-a366-1acbdecdd3ee"
      },
      "execution_count": 22,
      "outputs": [
        {
          "output_type": "stream",
          "name": "stdout",
          "text": [
            "0b101\n",
            "<class 'str'>\n"
          ]
        }
      ]
    },
    {
      "cell_type": "code",
      "source": [
        "# 정답 자체는 간단하게 맞출 수 있다. 매개변수로 주어진 integer의 binary값을 구해주는 bin함수와 string에서 원하는 값을 찾아 세주는 count함수를 쓰면 된다.\n",
        "class Solution(object):\n",
        "    def countBits(self, n):\n",
        "        \"\"\"\n",
        "        :type n: int\n",
        "        :rtype: List[int]\n",
        "        \"\"\"\n",
        "        return [bin(s).count('1') for s in range(n+1)]"
      ],
      "metadata": {
        "id": "H2Rpe6fB5lgI"
      },
      "execution_count": 23,
      "outputs": []
    },
    {
      "cell_type": "code",
      "source": [
        "\"\"\"\n",
        "0 0 0개\n",
        "1 1 1개\n",
        "2 10 1개\n",
        "3 11 2개\n",
        "4 100 1개\n",
        "5 101 2개\n",
        "6 110 2개\n",
        "7 111 3개\n",
        "8 1000 1개\n",
        "9 1001 2개\n",
        "10 1010 2개\n",
        "11 1100 2개\n",
        "12 1101 3개\n",
        "13 1110 3개\n",
        "14 1111 4개\n",
        "15 10000 1개\n",
        "16 10001 2개\n",
        "17 10010 2개\n",
        "18 10100 2개\n",
        "19 11000 2개\n",
        "20 11001 3개\n",
        "21 11010 3개\n",
        "22 11100 3개\n",
        "23 11101 4개\n",
        "24 11110 4개\n",
        "25 11111 5개\n",
        "0 1 1 2 1/ 2 2 3 1 2/ 2 2 3 3 4/ 1 2 2 2 2/ 3 3 3 4 4/ 5\n",
        "\"\"\""
      ],
      "metadata": {
        "id": "K_ufsQMg6H6K"
      },
      "execution_count": null,
      "outputs": []
    },
    {
      "cell_type": "code",
      "source": [
        "\"\"\"\n",
        "다른 방법으로는 그냥 수학적인 규칙을 이용하는 것도 있다. 2진수에서 2를 곱하면 뒤에 0이 붙는다. 10진수에서 10을 곱하면 0이 붙는 것과 마찬가지 원리로.\n",
        "2를 곱한 다음 순번에 있는 녀석은 이제 1을 더 갖게 된다. 1이면 2진수에서 1이 한 개다. 거기에 2를 곱한 2(10)는 2진수에서 1이 한 개다. 그 다음에 오는 3(11)은\n",
        "1의 개수가 두 개다. 그럼 이제 3의 2배수인 6(100)은 2진수에서 1이 여전히 두 개지만 그 다음 숫자인 7(111)은 2진수에서 1의 개수가 세 개가 된다.\n",
        "\"\"\"\n",
        "n = 5\n",
        "lst = [0] * (n+1)\n",
        "for i in range(n+1):\n",
        "  lst[i] = lst[i//2] + i%2\n",
        "lst"
      ],
      "metadata": {
        "colab": {
          "base_uri": "https://localhost:8080/"
        },
        "id": "XPc8QWMx9L9M",
        "outputId": "e143ba72-6090-4f1e-e781-ea94a8395b80"
      },
      "execution_count": 28,
      "outputs": [
        {
          "output_type": "execute_result",
          "data": {
            "text/plain": [
              "[0, 1, 1, 2, 1, 2]"
            ]
          },
          "metadata": {},
          "execution_count": 28
        }
      ]
    },
    {
      "cell_type": "code",
      "source": [
        "class Solution(object):\n",
        "    def countBits(self, n):\n",
        "        \"\"\"\n",
        "        :type n: int\n",
        "        :rtype: List[int]\n",
        "        \"\"\"\n",
        "        lst = [0] * (n+1)\n",
        "        for i in range(n+1):\n",
        "            lst[i] = lst[i//2] + i%2\n",
        "            lst\n",
        "        return lst"
      ],
      "metadata": {
        "id": "ZjIHozoh-IQz"
      },
      "execution_count": 29,
      "outputs": []
    },
    {
      "cell_type": "code",
      "source": [],
      "metadata": {
        "id": "1Wg_72Pp-vAk"
      },
      "execution_count": null,
      "outputs": []
    }
  ]
}
