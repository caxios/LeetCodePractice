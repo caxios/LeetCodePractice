{
  "nbformat": 4,
  "nbformat_minor": 0,
  "metadata": {
    "colab": {
      "provenance": [],
      "authorship_tag": "ABX9TyPVvQlkDcaB/HagAMrXD3dx"
    },
    "kernelspec": {
      "name": "python3",
      "display_name": "Python 3"
    },
    "language_info": {
      "name": "python"
    }
  },
  "cells": [
    {
      "cell_type": "markdown",
      "source": [
        "https://leetcode.com/problems/is-subsequence/"
      ],
      "metadata": {
        "id": "V-GekbMEOxKx"
      }
    },
    {
      "cell_type": "code",
      "source": [
        "s = \"abc\"\n",
        "t = \"ahbgdc\""
      ],
      "metadata": {
        "id": "NafKD6JkoiGw"
      },
      "execution_count": 39,
      "outputs": []
    },
    {
      "cell_type": "code",
      "source": [
        "s"
      ],
      "metadata": {
        "colab": {
          "base_uri": "https://localhost:8080/",
          "height": 35
        },
        "id": "N9g-YTA_U948",
        "outputId": "e52a205b-608b-4a03-88b5-b57eadba32dd"
      },
      "execution_count": 12,
      "outputs": [
        {
          "output_type": "execute_result",
          "data": {
            "text/plain": [
              "'abc'"
            ],
            "application/vnd.google.colaboratory.intrinsic+json": {
              "type": "string"
            }
          },
          "metadata": {},
          "execution_count": 12
        }
      ]
    },
    {
      "cell_type": "code",
      "source": [
        "s in t"
      ],
      "metadata": {
        "id": "1t91TGvA6gkq",
        "colab": {
          "base_uri": "https://localhost:8080/"
        },
        "outputId": "f9487007-38e4-4d17-feb2-733cf29007eb"
      },
      "execution_count": 13,
      "outputs": [
        {
          "output_type": "execute_result",
          "data": {
            "text/plain": [
              "False"
            ]
          },
          "metadata": {},
          "execution_count": 13
        }
      ]
    },
    {
      "cell_type": "code",
      "source": [
        "# find함수는 string변수에 해당 character가 있으면 그 녀석의 index를 반환한다.\n",
        "# 맨 첫 번째에 등장하는 index를 반환한다. 중복되어 나타나더라고 첫 번째 녀석의 index만 나옴.\n",
        "t.find(s[1])"
      ],
      "metadata": {
        "colab": {
          "base_uri": "https://localhost:8080/"
        },
        "id": "ylcgNMDNXzJW",
        "outputId": "c4e5c740-c5e8-4bf0-9b1c-5519a852547c"
      },
      "execution_count": 14,
      "outputs": [
        {
          "output_type": "execute_result",
          "data": {
            "text/plain": [
              "2"
            ]
          },
          "metadata": {},
          "execution_count": 14
        }
      ]
    },
    {
      "cell_type": "code",
      "source": [
        "# 얘가 제일 빠르다.\n",
        "z = []\n",
        "for c in s:\n",
        "  i = t.find(c)\n",
        "  print(f'{c}일 때 i의 값은 지금 {i}')\n",
        "  if i == -1:\n",
        "    print(\"없어\")\n",
        "  else:\n",
        "    t = t[i+1:]\n",
        "    z.append(t)\n",
        "print(z)"
      ],
      "metadata": {
        "colab": {
          "base_uri": "https://localhost:8080/"
        },
        "id": "A4Lc1RJgU63N",
        "outputId": "07bf8cf1-6a14-4f69-8686-cc8ec96a020c"
      },
      "execution_count": 33,
      "outputs": [
        {
          "output_type": "stream",
          "name": "stdout",
          "text": [
            "a일 때 i의 값은 지금 0\n",
            "b일 때 i의 값은 지금 1\n",
            "c일 때 i의 값은 지금 2\n",
            "['hbgdc', 'gdc', '']\n"
          ]
        }
      ]
    },
    {
      "cell_type": "code",
      "source": [
        "ss = 0\n",
        "for i in range(0, len(t)):\n",
        "  if ss <= len(s):\n",
        "    print(ss)\n",
        "    print(t[i])\n",
        "    if s[ss] == t[i]:\n",
        "      ss+=1\n",
        "      print(\"맞았어!\")\n",
        "print(ss==len(s))"
      ],
      "metadata": {
        "colab": {
          "base_uri": "https://localhost:8080/"
        },
        "id": "MLHD6repYbcY",
        "outputId": "4d219c5f-8b43-45a1-b5f4-9bd6a095a32e"
      },
      "execution_count": 45,
      "outputs": [
        {
          "output_type": "stream",
          "name": "stdout",
          "text": [
            "0\n",
            "a\n",
            "맞았어!\n",
            "1\n",
            "h\n",
            "1\n",
            "b\n",
            "맞았어!\n",
            "2\n",
            "g\n",
            "2\n",
            "d\n",
            "2\n",
            "c\n",
            "맞았어!\n",
            "True\n"
          ]
        }
      ]
    },
    {
      "cell_type": "code",
      "source": [
        "# if ss <= len(s)가 없다면 ss가 s의 최대 index인 2를 넘어가게 되므로 이건 testcase는 맞는데 정답처리가 안 된다.\n",
        "ss = 0\n",
        "for i in range(0, len(t)):\n",
        "  if s[ss] == t[i]:\n",
        "    ss+=1\n",
        "    print(\"맞았어!\")\n",
        "print(ss==len(s))"
      ],
      "metadata": {
        "colab": {
          "base_uri": "https://localhost:8080/"
        },
        "id": "bFzZmGeGbovj",
        "outputId": "74e1dc35-012d-4048-f852-c47bb6c30921"
      },
      "execution_count": 43,
      "outputs": [
        {
          "output_type": "stream",
          "name": "stdout",
          "text": [
            "맞았어!\n",
            "맞았어!\n",
            "맞았어!\n",
            "True\n"
          ]
        }
      ]
    },
    {
      "cell_type": "code",
      "source": [
        "# s와 t 각각의 index를 추적하는 방식으로 하는데 느리다.\n",
        "p1 = p2 = 0\n",
        "while p1 < len(s) and p2 < len(t):\n",
        "    if s[p1] == t[p2]:\n",
        "        p1 += 1\n",
        "    p2 += 1\n",
        "print(p1 == len(s))"
      ],
      "metadata": {
        "colab": {
          "base_uri": "https://localhost:8080/"
        },
        "id": "ropqqI_qcxGr",
        "outputId": "0165e428-0715-4d28-e2e2-0bb8afb92ca8"
      },
      "execution_count": 44,
      "outputs": [
        {
          "output_type": "stream",
          "name": "stdout",
          "text": [
            "True\n"
          ]
        }
      ]
    },
    {
      "cell_type": "code",
      "source": [],
      "metadata": {
        "id": "zl6lDs4zd_QI"
      },
      "execution_count": null,
      "outputs": []
    }
  ]
}