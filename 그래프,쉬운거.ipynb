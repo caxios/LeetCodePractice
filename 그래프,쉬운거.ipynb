{
  "nbformat": 4,
  "nbformat_minor": 0,
  "metadata": {
    "colab": {
      "provenance": [],
      "authorship_tag": "ABX9TyNu4063y6S12+6MW5hYtQ6i"
    },
    "kernelspec": {
      "name": "python3",
      "display_name": "Python 3"
    },
    "language_info": {
      "name": "python"
    }
  },
  "cells": [
    {
      "cell_type": "markdown",
      "source": [
        "https://leetcode.com/problems/find-center-of-star-graph/"
      ],
      "metadata": {
        "id": "V-GekbMEOxKx"
      }
    },
    {
      "cell_type": "code",
      "source": [
        "edges = [[1,2],[2,3],[4,2]]\n",
        "edges[0]"
      ],
      "metadata": {
        "id": "1Wg_72Pp-vAk",
        "colab": {
          "base_uri": "https://localhost:8080/"
        },
        "outputId": "4af80a0a-1925-4a75-e755-8660248a5914"
      },
      "execution_count": 6,
      "outputs": [
        {
          "output_type": "execute_result",
          "data": {
            "text/plain": [
              "[1, 2]"
            ]
          },
          "metadata": {},
          "execution_count": 6
        }
      ]
    },
    {
      "cell_type": "code",
      "source": [
        "# 그냥 직관적인 방법. edges를 다 풀어서 하나의 리스트로 만든다음, pop함수를 통해 맨끝에서부터 element를 하나씩 뽑아 변수에 저장 후, 리스트에 해당 원소가 중복된다면 그게 cetner다. 그래프에 같은 숫자가 중복으로 나올 수 없다고 하니..\n",
        "# 근데 timelimit에러가 걸린다.\n",
        "lst = []\n",
        "center = 0\n",
        "for edge in edges:\n",
        "  for i in edge:\n",
        "    lst.append(i)\n",
        "for i in lst:\n",
        "  num = lst.pop()\n",
        "  if num in lst:\n",
        "    print(num)\n",
        "    center = num"
      ],
      "metadata": {
        "id": "0-gqLk3SmPai",
        "colab": {
          "base_uri": "https://localhost:8080/"
        },
        "outputId": "8500b419-c0d8-4556-fcb2-0290efa20fef"
      },
      "execution_count": 4,
      "outputs": [
        {
          "output_type": "stream",
          "name": "stdout",
          "text": [
            "2\n"
          ]
        }
      ]
    },
    {
      "cell_type": "code",
      "source": [
        "# 이건 괜찮다. edges 리스트의 맨 앞 두 개 원소 리스트만 체크하면 돼서.\n",
        "(set(edges[0]) & set(edges[1])).pop()"
      ],
      "metadata": {
        "colab": {
          "base_uri": "https://localhost:8080/"
        },
        "id": "9YSIuclTkMVQ",
        "outputId": "fff080d8-f03a-4c8f-df55-067312d1f305"
      },
      "execution_count": 18,
      "outputs": [
        {
          "output_type": "execute_result",
          "data": {
            "text/plain": [
              "2"
            ]
          },
          "metadata": {},
          "execution_count": 18
        }
      ]
    },
    {
      "cell_type": "code",
      "source": [
        "({1,2} & {2,3}).pop()"
      ],
      "metadata": {
        "colab": {
          "base_uri": "https://localhost:8080/"
        },
        "id": "ZS37X3pvn4BF",
        "outputId": "66410eea-e0cf-482a-bc10-94f45abcdd5d"
      },
      "execution_count": 19,
      "outputs": [
        {
          "output_type": "execute_result",
          "data": {
            "text/plain": [
              "2"
            ]
          },
          "metadata": {},
          "execution_count": 19
        }
      ]
    },
    {
      "cell_type": "code",
      "source": [
        "({1,2} & {2,3})"
      ],
      "metadata": {
        "colab": {
          "base_uri": "https://localhost:8080/"
        },
        "id": "8Q-RTjron63o",
        "outputId": "73106816-4afb-4913-a942-65b8f37f9903"
      },
      "execution_count": 20,
      "outputs": [
        {
          "output_type": "execute_result",
          "data": {
            "text/plain": [
              "{2}"
            ]
          },
          "metadata": {},
          "execution_count": 20
        }
      ]
    },
    {
      "cell_type": "code",
      "source": [],
      "metadata": {
        "id": "NafKD6JkoiGw"
      },
      "execution_count": null,
      "outputs": []
    }
  ]
}